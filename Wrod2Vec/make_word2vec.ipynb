{
 "cells": [
  {
   "cell_type": "code",
   "execution_count": 1,
   "metadata": {},
   "outputs": [],
   "source": [
    "from gensim.models import word2vec\n",
    "import numpy as np\n",
    "from TimeChecker import TimeChecker\n",
    "import gensim\n",
    "from CharToIndex import CharToIndex"
   ]
  },
  {
   "cell_type": "code",
   "execution_count": 2,
   "metadata": {},
   "outputs": [],
   "source": [
    "tegaki_file_path = \"/net/nfs2/export/home/ohno/CR_pytorch/data/tegaki_katsuji/tegaki_distance.npz\"\n",
    "katsuji_file_path = \"/net/nfs2/export/home/ohno/CR_pytorch/data/tegaki_katsuji/katsuji_distance.npz\"\n",
    "\n",
    "tegaki_data = np.load(tegaki_file_path,allow_pickle=True)\n",
    "katsuji_data = np.load(katsuji_file_path,allow_pickle=True)\n",
    "\n",
    "d_val = np.concatenate((tegaki_data['value'],katsuji_data['value']))\n",
    "d_ans = np.concatenate((tegaki_data['answer'],katsuji_data['answer']))\n",
    "dataset=[]"
   ]
  },
  {
   "cell_type": "code",
   "execution_count": 3,
   "metadata": {},
   "outputs": [],
   "source": [
    "# for val,ans in zip(d_val,d_ans):\n",
    "#     ar = list(val+ans)\n",
    "#     for i,item1 in enumerate(ar):\n",
    "#         for j,item2 in enumerate(ar):\n",
    "#             if item1 == item2:\n",
    "#                 continue\n",
    "#             dataset.append([item1,item2])\n",
    "\n",
    "# np.save(\"/net/nfs2/export/home/ohno/CR_pytorch/Wrod2Vec/dataset.npy\",dataset)\n",
    "# running_time = TimeChecker()\n",
    "# running_time.start()\n",
    "\n",
    "# model = word2vec.Word2Vec(dataset,vector_size=64,min_count=1,window=2, epochs=100,sg=1,compute_loss=True)\n",
    "\n",
    "\n",
    "# print('実行時間： ',running_time.stop())\n",
    "\n",
    "# #モデルの保存\n",
    "# model.save(\"/net/nfs2/export/home/ohno/CR_pytorch/Wrod2Vec/word2vec.model\")"
   ]
  },
  {
   "cell_type": "code",
   "execution_count": 11,
   "metadata": {},
   "outputs": [],
   "source": [
    "\n",
    "# dataset = np.load(\"/net/nfs2/export/home/ohno/CR_pytorch/Wrod2Vec/dataset.npy\",allow_pickle=True)\n",
    "path = r\"/net/nfs2/export/home/ohno/CR_pytorch/Wrod2Vec/context_2/\"\n",
    "# model_64 = gensim.models.Word2Vec.load(path+\"word2vec_64.model\")\n",
    "# model_128 = gensim.models.Word2Vec.load(path+\"word2vec_128.model\")\n",
    "# model_256 = gensim.models.Word2Vec.load(path+\"word2vec_256.model\")\n",
    "# model_512 = gensim.models.Word2Vec.load(path+\"word2vec_512.model\")\n",
    "# model_1024 = gensim.models.Word2Vec.load(path+\"word2vec_1024.model\")\n",
    "\n",
    "model = gensim.models.Word2Vec.load(path+\"word2vec_1024.model\")\n",
    "\n",
    "\n"
   ]
  },
  {
   "cell_type": "code",
   "execution_count": 5,
   "metadata": {},
   "outputs": [],
   "source": [
    "import pprint\n",
    "def most_similaries(char):\n",
    "    pprint.pprint(model_64.wv.most_similar(char))\n",
    "    pprint.pprint(model_128.wv.most_similar(char))\n",
    "    pprint.pprint(model_256.wv.most_similar(char))\n",
    "    pprint.pprint(model_512.wv.most_similar(char))\n",
    "    pprint.pprint(model_1024.wv.most_similar(char))\n",
    "\n",
    "\n"
   ]
  },
  {
   "cell_type": "code",
   "execution_count": 6,
   "metadata": {},
   "outputs": [
    {
     "name": "stdout",
     "output_type": "stream",
     "text": [
      "134217728.0\n",
      "134217728.0\n",
      "134217728.0\n",
      "134217728.0\n",
      "134217728.0\n"
     ]
    }
   ],
   "source": [
    "print(model_64.get_latest_training_loss())\n",
    "print(model_128.get_latest_training_loss())\n",
    "print(model_256.get_latest_training_loss())\n",
    "print(model_512.get_latest_training_loss())\n",
    "print(model_1024.get_latest_training_loss())\n"
   ]
  },
  {
   "cell_type": "code",
   "execution_count": 8,
   "metadata": {},
   "outputs": [],
   "source": [
    "chars_file_path = r\"/net/nfs2/export/home/ohno/CR_pytorch/data/tegaki_katsuji/all_chars_3815.npy\"\n",
    "tokens = CharToIndex(chars_file_path)"
   ]
  },
  {
   "cell_type": "code",
   "execution_count": 13,
   "metadata": {},
   "outputs": [
    {
     "name": "stdout",
     "output_type": "stream",
     "text": [
      "<UNK>\n",
      "　\n",
      "〜\n",
      "埃\n",
      "媚\n",
      "寵\n",
      "樽\n",
      "璧\n",
      "瞑\n",
      "舐\n",
      "蹴\n",
      "：\n",
      "ａ\n",
      "ｂ\n",
      "ｃ\n",
      "ｄ\n",
      "ｅ\n",
      "ｆ\n",
      "ｈ\n",
      "ｉ\n",
      "ｋ\n",
      "ｎ\n",
      "ｐ\n",
      "ｒ\n",
      "ｓ\n",
      "ｕ\n",
      "ｘ\n"
     ]
    }
   ],
   "source": [
    "import torch\n",
    "\n",
    "vocab_num = len(tokens)\n",
    "vector_size = 1024\n",
    "\n",
    "attention_matrix = torch.zeros((vocab_num,vector_size),dtype=float)\n",
    "\n",
    "for i,char in enumerate(tokens.table):\n",
    "    try:\n",
    "        attention_matrix[i] = torch.tensor(model.wv[char.decode()])\n",
    "    except KeyError:\n",
    "        attention_matrix[i] = 0\n",
    "        print(char.decode())"
   ]
  },
  {
   "cell_type": "code",
   "execution_count": 33,
   "metadata": {},
   "outputs": [
    {
     "name": "stdout",
     "output_type": "stream",
     "text": [
      "人 tensor(0.7311, dtype=torch.float64)\n",
      "入 tensor(0.6113, dtype=torch.float64)\n",
      "八 tensor(0.6068, dtype=torch.float64)\n",
      "へ tensor(0.5963, dtype=torch.float64)\n",
      "火 tensor(0.5945, dtype=torch.float64)\n",
      "大 tensor(0.5926, dtype=torch.float64)\n",
      "べ tensor(0.5914, dtype=torch.float64)\n",
      "バ tensor(0.5913, dtype=torch.float64)\n",
      "ベ tensor(0.5887, dtype=torch.float64)\n",
      "卜 tensor(0.5845, dtype=torch.float64)\n",
      "ん tensor(0.5839, dtype=torch.float64)\n",
      "パ tensor(0.5830, dtype=torch.float64)\n",
      "Ｋ tensor(0.5818, dtype=torch.float64)\n",
      "ヘ tensor(0.5794, dtype=torch.float64)\n",
      "ハ tensor(0.5786, dtype=torch.float64)\n",
      "穴 tensor(0.5785, dtype=torch.float64)\n",
      "尺 tensor(0.5776, dtype=torch.float64)\n",
      "ペ tensor(0.5765, dtype=torch.float64)\n",
      "ト tensor(0.5746, dtype=torch.float64)\n",
      "く tensor(0.5728, dtype=torch.float64)\n"
     ]
    }
   ],
   "source": [
    "c = '人'\n",
    "vector =  torch.mul(torch.tensor(model.wv[c],dtype=float),torch.ones(attention_matrix.shape))\n",
    "\n",
    "cos_sims = torch.nn.functional.cosine_similarity(attention_matrix,vector,dim=1)\n",
    "softmax = torch.nn.Softmax(dim=0)\n",
    "attentioned_value = softmax(cos_sims)\n",
    "\n",
    "infer = torch.topk(torch.sigmoid(cos_sims),20)\n",
    "for sim,id in zip(infer[0],infer[1]):\n",
    "    print(tokens.get_decoded_char(id.item()),end=' ')\n",
    "    print(sim)"
   ]
  },
  {
   "cell_type": "code",
   "execution_count": null,
   "metadata": {},
   "outputs": [],
   "source": [
    "\n",
    "print(torch.norm(attention_matrix,dim=1).shape,torch.norm(vector).shape)\n",
    "attention = torch.mv(attention_matrix,vector) / torch.norm(attention_matrix,dim=1) * torch.norm(vector)\n",
    "print(model_512.wv.most_similar(c))\n",
    "\n",
    "softmax = torch.nn.Softmax(dim=0)\n",
    "attentioned_value = softmax(attention)\n",
    "infer = torch.topk(attentioned_value,20)\n",
    "for sim,id in zip(infer[0],infer[1]):\n",
    "    print(tokens.get_decoded_char(id.item()),end=' ')\n",
    "    print(sim)"
   ]
  },
  {
   "cell_type": "code",
   "execution_count": null,
   "metadata": {},
   "outputs": [
    {
     "name": "stdout",
     "output_type": "stream",
     "text": [
      "（しトＦ卜Ｔ１ドレＩ\n",
      "機臓磯械礒倣微概横艤\n",
      "れ礼札机社壮杠丸ね肛\n",
      "）コ３－ヨョノＪユュ\n",
      "がぶびガかぴボ尤ぷバ\n",
      "日曰目ロ白月口臼貝自\n",
      "本木水奉太未汰末氷禾\n",
      "にヒ仁ん比穴しル父七\n",
      "ぉおむねだあぁ沿右わ\n",
      "けげ什サＨは叶仕汁ケ\n",
      "るろゐ弓乃６万石Ｏ乙\n",
      "差圭着基菫茎垂墓淫\n",
      "別則副刑馴剛剖割削剃\n",
      "の①めＤ⑥０わゎぬ②\n",
      "原源厚頂便須県項煩盾\n",
      "点小ＡムＨ以ねれみ４\n",
      "な女か左交びだ友ぴひ\n",
      "の①め⑥Ｄ０ぬ②わゎ\n",
      "でてさ万芯す下セむせ\n",
      "すず寸十ナオォサザ女\n",
      "がぶびかガぴボ尤ぷバ\n",
      "、ーゝ－一Ｘ１入Ｙ）\n",
      "美実芙業支失夫案笑矢\n",
      "はほぼばぱぽな仕住け\n",
      "こごニ二と乙Ｃさ三ヒ\n",
      "の①め⑥０Ｄ②わゎぬ\n",
      "感惑威憾戚蔵球成毬懲\n",
      "覚党筧寛堂覧賞宜意貞\n",
      "はほぼばぱぽな仕ぬけ\n",
      "現規硯親視蜆覗坦境理\n",
      "代伐伏化什氏供杙仇仕\n",
      "人入八ハヘバ火大太へ\n",
      "も屯むち宅丸おぉ古忘\n",
      "持特将接蒋待侍痔符\n",
      "っつづうぅウゥろら。\n",
      "てで七モ亡せこセマズ\n",
      "ぃいＵにぴりびひじ゛\n",
      "ょよま主上決土注王士\n",
      "すず十寸ナザオォサ女\n",
      "。．゜のＯＣ・０６゛\n",
      "例倒側俐制剖捌働何創\n",
      "ぇえ之穴文ネス乏元丈\n",
      "ばぱぼぽげほ伏吠伐獄\n",
      "、ゝ－Ｘ入）へ一ーベ\n",
      "葬華溝萎準革蕪蒸幸\n",
      "式武氏弐比丈北大犬攻\n",
      "のめ①⑥ぬ０Ｄわゎり\n",
      "ぁあめおぉ交訪も窃女\n",
      "とどヒをさ２Ｅ七上そ\n",
      "に仁ヒん穴し比Ｋ七化\n",
      "塩堆堪雄垢搗推臨蝋\n",
      "をき守安そな壱巻逮ま\n",
      "振娠板坂張抜掘披握根\n",
      "るろゐ弓乃６石万Ｏ乙\n",
      "とさヒを七き上ミ２よ\n",
      "ぃいＵにぴびりひじ゛\n",
      "ぅうウゥらろラづつっ\n",
      "行斤竹付方庁右待打存\n",
      "偽為慈活弟浩鴻持蔦鳥\n",
      "はほばぼぱぽ仕な住体\n",
      "ょよま主上注土決王士\n",
      "さきざまよょ吉ミを古\n",
      "に仁穴ヒ化欠忙Ｒた比\n",
      "ＴＦトし１Ｉ卜（エェ\n",
      "機磯臓械穣微横捗倣徴\n",
      "れわゎ肛札礼机ね抗丸\n",
      "リコ）りヨョゴ゛ＪＵ\n",
      "をき守ぞな安そ巷壱\n",
      "ＦＴ下ド（５ＶＥじＰ\n",
      "祓赦滅誠城械威減祗戒\n",
      "ぅうウゥラらろづつっ\n",
      "コリ）り゛ゴヨョＵ・\n",
      "行斤付庁竹升什方打待\n",
      "偽為弟慈詩活蔦鴻浩鳥\n",
      "そぞ号弓モをで名て壱\n",
      "の①めぬ⑥いぃわゎ０\n",
      "も屯むち毛６しら宅忘\n",
      "の①め⑥ぬ②０Ｄわゎ\n",
      "でてさ芯む万やゃマた\n",
      "すず寸ナ十女オォサ才\n",
      "。゜０Ｃロ６Ｄ・ら．\n",
      "まよょ主注決土浜洪来\n",
      "ただ九えぇ之犬七大穴\n",
      "、ゝー－一Ｘ入）Ｙベ\n",
      "子孑干予千不平チヂ乎\n",
      "供倶僕位棋併俳仇佼\n",
      "ただえぇ九之七犬大穴\n",
      "ちぢおぉらも右ろ方だ\n",
      "がびぶかガぴボぷおぉ\n",
      "ょよま上おぉ主ぶ土ぷ\n",
      "くぐ（べぺベペこミ丈\n",
      "ゃやヤャ多市ゆゅ予亭\n",
      "るろゐ弓６Ｏ石乃乙そ\n",
      "工エェＩ土ヱユュ王士\n",
      "ンシジレソごし二－ニ\n",
      "ガかがヴだボ犬び分ぢ\n",
      "チヂ千手干テ午与ヰデ\n",
      "ョヨヲ３コラ白日三ゴ\n",
      "とどさヒ上七２をミ８\n",
      "ぃいＵにりじびひぴ゛\n"
     ]
    }
   ],
   "source": [
    "import random\n",
    "index = int(len(d_val)*random.random())\n",
    "for item in d_val[index:index+100]:\n",
    "    print(''.join(item))"
   ]
  },
  {
   "cell_type": "code",
   "execution_count": null,
   "metadata": {},
   "outputs": [],
   "source": []
  }
 ],
 "metadata": {
  "interpreter": {
   "hash": "b3f068fdb30bfe91116931ab9f38f90abd8ac3f51d16a38a70c3d538a36b3166"
  },
  "kernelspec": {
   "display_name": "Python 3.8.10 64-bit ('CR_pytorch': venv)",
   "language": "python",
   "name": "python3"
  },
  "language_info": {
   "codemirror_mode": {
    "name": "ipython",
    "version": 3
   },
   "file_extension": ".py",
   "mimetype": "text/x-python",
   "name": "python",
   "nbconvert_exporter": "python",
   "pygments_lexer": "ipython3",
   "version": "3.8.10"
  },
  "orig_nbformat": 4
 },
 "nbformat": 4,
 "nbformat_minor": 2
}
