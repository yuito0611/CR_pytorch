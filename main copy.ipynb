{
 "cells": [
  {
   "cell_type": "code",
   "execution_count": 16,
   "metadata": {},
   "outputs": [],
   "source": [
    "import torch\n",
    "from torchvision import datasets\n",
    "from torchvision.transforms import ToTensor\n",
    "import numpy as np\n",
    "import torch.nn as nn\n",
    "from torch import optim\n",
    "from torch.utils.data import DataLoader\n",
    "from torchinfo import summary \n",
    "import numpy as np\n",
    "import matplotlib.pyplot as plt\n",
    "import pprint\n",
    "    \n",
    "from CharToIndex import CharToIndex\n",
    "from MyDatasets import BaseDataset as MyDataset\n",
    "from MyDatasets import Cross_Validation  \n",
    "from MyCustomLayer import TenHotEncodeLayer\n",
    "\n",
    "\n",
    "import time\n",
    "import math"
   ]
  },
  {
   "cell_type": "code",
   "execution_count": 17,
   "metadata": {},
   "outputs": [],
   "source": [
    "chars_file_path = \"/net/nfs2/export/home/ohno/CR_pytorch/data/tegaki_katsuji/all_chars_3812.npy\"\n",
    "tokens = CharToIndex(chars_file_path)\n",
    "file_path = \"/net/nfs2/export/home/ohno/CR_pytorch/data/tegaki_katsuji/tegaki.npy\"\n",
    "data = np.load(file_path,allow_pickle=True)\n",
    "\n",
    "EMBEDDING_DIM = 10\n",
    "HIDDEN_SIZE = 128\n",
    "BATCH_SIZE = 64\n",
    "VOCAB_SIZE = len(tokens)\n",
    "\n",
    "device = torch.device('cuda' if torch.cuda.is_available() else 'cpu')\n",
    "tegaki_dataset = MyDataset(data,chars_file_path,device=device)"
   ]
  },
  {
   "cell_type": "code",
   "execution_count": 18,
   "metadata": {},
   "outputs": [],
   "source": [
    "def timeSince(since):\n",
    "    now = time.time()\n",
    "    s = now - since\n",
    "    m = math.floor(s / 60)\n",
    "    s -= m * 60\n",
    "    return '%dm %ds' % (m, s)\n",
    "\n",
    "def show_ans_pred(answers,predictions):\n",
    "    for ans,pred in zip(answers,predictions):\n",
    "        correct = '✓' if ans.item() == pred.item() else '✗'\n",
    "        print(f'{tokens.get_decoded_char(ans.item())}{tokens.get_decoded_char(pred.item()):2} {correct}',end=' ')\n",
    "    print()\n",
    "\n",
    "\n",
    "\n",
    "def train(model,train_dataloader,learning_rate=0.001):\n",
    "    criterion = nn.CrossEntropyLoss()\n",
    "    optimizer = optim.Adam(model.parameters(), lr=learning_rate)\n",
    "\n",
    "    batch_size = next(iter(train_dataloader))[0].size(0)\n",
    "    running_loss = 0\n",
    "    accuracy = 0\n",
    "\n",
    "    model.train()\n",
    "    for i,(x,y) in enumerate(train_dataloader):\n",
    "        output = model(x)\n",
    "        loss = criterion(output, y) #損失計算\n",
    "        prediction = output.data.max(1)[1] #予測結果\n",
    "        accuracy += prediction.eq(y.data).sum().item()/batch_size\n",
    "        optimizer.zero_grad() #勾配初期化\n",
    "        loss.backward(retain_graph=True) #逆伝播\n",
    "        optimizer.step()  #重み更新\n",
    "        running_loss += loss.item()\n",
    "\n",
    "    loss_result = running_loss/len(train_dataloader)\n",
    "    accuracy_result = accuracy/len(train_dataloader)\n",
    "\n",
    "    return loss_result,accuracy_result\n",
    "\n",
    "    \n",
    "def eval(model,valid_dataloader,is_show_ans_pred=False):\n",
    "    accuracy = 0\n",
    "    batch_size = next(iter(valid_dataloader))[0].size(0)\n",
    "    model.eval()\n",
    "    for x,y in valid_dataloader:\n",
    "        output = model(x)\n",
    "        prediction = output.data.max(1)[1] #予測結果\n",
    "        accuracy += prediction.eq(y.data).sum().item()/batch_size\n",
    "        if is_show_ans_pred:\n",
    "            ans_pred_list=show_ans_pred(y,prediction)\n",
    "            print(ans_pred_list)\n",
    "        \n",
    "    return accuracy/len(valid_dataloader)\n"
   ]
  },
  {
   "cell_type": "code",
   "execution_count": 19,
   "metadata": {},
   "outputs": [],
   "source": [
    "#hot encode用\n",
    "class Proofreader(nn.Module):\n",
    "    def __init__(self, input_size, hidden_dim, output_size,n_layers):\n",
    "        super(Proofreader, self).__init__()\n",
    "\n",
    "        self.hidden_dim = hidden_dim\n",
    "        self.n_layers  = n_layers\n",
    "        self.device = torch.device('cuda' if torch.cuda.is_available() else 'cpu')\n",
    "        \n",
    "        self.encoder = TenHotEncodeLayer(output_size)\n",
    "        self.rnn = nn.RNN(input_size, self.hidden_dim, batch_first=True)\n",
    "        self.fc = nn.Linear(self.hidden_dim, output_size)\n",
    "        self.dropout = torch.nn.Dropout(p=0.5)  \n",
    "        self.to(self.device)\n",
    "\n",
    "    def init_hidden(self, batch_size):\n",
    "        hidden = torch.zeros(self.n_layers, batch_size, self.hidden_dim)\n",
    "        return hidden\n",
    "    \n",
    "    def forward(self, x):\n",
    "        batch_size = x.size(0)\n",
    "        hidden = self.init_hidden(batch_size).to(self.device)\n",
    "\n",
    "        x = self.encoder(x)\n",
    "        out, hidden = self.rnn(x, hidden)\n",
    "        out = out[:,-1,:]\n",
    "        out = self.dropout(out)\n",
    "        out = self.fc(out)\n",
    "        \n",
    "        return out\n"
   ]
  },
  {
   "cell_type": "code",
   "execution_count": 20,
   "metadata": {},
   "outputs": [
    {
     "name": "stdout",
     "output_type": "stream",
     "text": [
      "Cross Validation: k=[1/10]\n",
      "ﾃﾑ工学講座では､ｶﾒﾗ､ﾏｲｸなどの各種ｾﾝｻにより計測された大量の情報をｺﾝﾋﾟｭｰﾀに取り込み､人間と機械に適切な情報を提供する人工知能ｼｽﾃﾑについて研究します｡この研究により､より人間らしい快適な生活ができる高度情報化社会の構築を目指します｡人間情報学講座では､人間の知覚､認知､行動に関する人間情報学の基礎的･応用的研究を通して､人間の認識能力や､人間の反応や行動に合わせた特性を備えた､人に優しいｺﾝﾋﾟｭｰﾀｼｽﾃﾑを開発しています｡いつもご利用いただきまして､誠にありがとうございます｡さて､お客様の定額･定期預金は､右記のとおり満期を迎えますので､ご案内いたします｡今後とも一層のご愛顧を賜りますようお願い申し上げます｡(払戻しおよび預け替えのお手続きの際に必要となる書類等)貯金証書､総合口座通帳(無通帳型総合口座の場合はｷｬｯｼｭｶｰﾄﾞ)､お届け印およびご本人であることを確認できる証明書類(お名前･ご住所･生年月日の入った運転免許証等､法人名義の場合は登記事項証明書等､団体名義の場合は規約の写し等もあわせてお持ちください)このことについて､日本学術振興会から別添のとおり通知がありました｡つきましては同封の研究者使用ﾙｰﾙと科研費ﾊﾝﾄﾞﾌﾞｯｸをご一読頂き､研究費の適正な使用についてご尽力頂きますようお願いします｡化学は階段状に発展する｡革命的な理論が出るとﾊﾟﾗﾀﾞｲﾑが大きく転換し(いわゆるﾌﾞﾚｰｸｽﾙｰが起こり)広い分野へ適用されていく｡ｼﾞｬﾝﾌﾟして一段上に昇るのである｡しかしその後､どんどん問題が詳細になり､平板な通常科学の時代を迎える｡いわば踊り場である｡そこに何らかの矛盾や適用不可能な課題があれば､そこからまた新たな飛躍が起こるのだ｡ところが､踊り場が広い場合､一見してすべてが解決できるかのように錯覚することもある｡そんなときに決まって言われるのが｢科学の終焉｣である｡科学は行き着くところまで行き着いた､もう何もすることはない､と考えたくなるからだ｡技術開発にとっても科学が重要であることが認識されるにつれ､技術産業において意識的に科学を取り入れる試みがなされるようになった｡すでに一九世紀においてﾄﾞｲﾂで最初の産業用化学実験所が設立されたのに続きいくつかの産業で付属の研究機関が創設された｡技術進歩を遂げるためには､応用研究といえども基礎研究から積み上げることの重要性が認識されるようになったためである｡ その典型は､AT&T社のﾍﾞﾙ研究所であり､ｴｼﾞｿﾝが設立したﾓﾝﾛｰﾊﾟｰｸ研究所だろう｡そこでは､技術者だけでなく､数学･物理学･化学など基礎科学の研究者をも雇用して共同研究という形で開発研究を推し進めたのだ｡当然､社会全体への科学の影響力が強くなり､職業としての科学者の数が急増することになった｡広げた資料の一番上に載っていたﾒﾓを手に､神谷は山崎に専門的な質問を向けた｡ それから小一時間ほどの時間は､裁判の打ち合わせというよりも､神谷の興味と感心､そしてなにより疑問を解消するためのﾚｸﾁｬｰに割かれた｡驚いたのは､神谷の専門知識の高さだ｡弁護士というより､研究者を相手にしているような錯覚を何度も覚えるほどである｡いや､神谷自身､弁護士という仕事はしていても､おそらく技術者としても一流の人間なのだ｡それは､ここに来る前に見たﾎｰﾑﾍﾟｰｼﾞのﾌﾟﾛﾌｨｰﾙからも見てとれた｡技術系の大学を出た後､しばらくﾒｰｶｰに勤務しながら一旦弁理士になり､その後､法律を勉強して司法試験を突破したという\n",
      "\n",
      "Cross Validation: k=[2/10]\n",
      "佃にとって馴染みのある研究者のそれだ｡佃航平が宇宙科学開発機構の元研究員だったという経歴を知ったとき､きっと自分と同じ常識が通用する相手に違いない､と財前は決め込んでいた｡町の中小企業経営者とは違うのだと｡その財前が知っている経営者とは､他ならぬ自分の父親であった｡佃にはひと言もいわなかったが､財前の父もその昔､同じ京浜工業地帯に属する川崎市内でそこそこの規模の町工場を経営していたのである｡昭和一桁生まれの人間らしく､仕事一筋に生きた男｡それを支える母｡社員百人ほどを抱えるそこそこの町工場で､油塗れになりながら朝から晩まで働きづめに働いていた両親を見ながら､財前は育った｡会社の仕事は､ﾌﾟﾗｽﾁｯｸの成型と製造だ｡ﾋﾟｰｸ時の売上は五十億円ほどにもなっていたから､町工場の規模としては決して小さくはない｡もうひとつﾘｽﾃｿｱの事例が教えてくれるととがあります｡ﾘｽﾃりｱという細菌が食物に存在するということと､それが感染症という病気を起こすことは同義ではないということです｡いや､ﾘｽﾃﾘｱが混入している食べ物を食べてもほとんどの人は病気になりません｡菌が腸の中でじっとしていて､しばらくすると体外に出て行くだけです｡事実､ﾘｽﾃﾘｱの菌は非加熱のﾁ一ｽﾞにしばしば混入しており､ﾌﾗﾝｽ人などﾖｰ口ｯﾊﾟの人たちはこのようなﾁ一ｽﾞを好んで食べますが､ﾘｽﾃﾘｱ感染病を引を起こす人はめったにいません｡｢そこに病原体がいる｣ということと､｢それが病気を引き起こす｣ということを同義に捉えてはいけないのです｡このことは腸管出血性大腸菌におぃても同じです｡ぽくはときどき､この細菌を無症状の患者の便から偶然見つけます.もうｰつは､雑音やゆらぎや誤差のような制御できない要素が大きく成長して結果に影響を与えることである｡例えば､ｺﾝﾋﾟﾕｰﾀ一で数値計算する場合､ほんの小さな計算誤差であっても集積すると本来の値を変えてしまう場合があり得る｡そのため､得られた結果が計算誤差から生じた架空の値なのか､実際の物理的作用によるものなのかがわからなくなってしまう｡通常は無視できるごく小さな効果であるのにもかかわらず､非線形作用によって大きく成長して主役を演じるようになるのである｡それを喩えて｢ﾊﾞﾀﾌﾗｲ効果｣と呼ぱれる｡ﾊﾞﾀﾌﾗｲ(ﾁｮｳ)のひと舞いによって引き起こされる風はすぐにかき消されてしまうくらい小さいが､空気の条件や周囲の状況によってどんどん風が強められ､最後には台風にまで発達してしまう場合があるという喩え話である｡空を飛ぶ､街が飛ぶ､雲を突きぬけ星になる火を吹いて､闇を裂き､ｽｰﾊﾟｰ･ｼﾃｨが舞いあがる｡TOKIO､TOKIOがふたりを抱いたまま｡TOKIO､T0KIOが空を飛ぶ｡海に浮かんだ光の泡だと､おまえは言ってたね｡見つめていると死にそうだとくわえ煙草で涙おとした｡TOKIO､やさしい女が眠る街｡TOKIO､TOKIOは夜に飛ぶ｡欲しいなら何もかもその手にできるよAtoZ｡夢を飼う恋人に奇跡をうみだすｽｰﾊﾟｰｼﾃｨ｡TOKIO､哀しい男が吠える街｡TOKIO､TOKIOが星になる｡霧にけむった不思議の街に､あやしい胸さわぎ､やすらぎ知らない遊園地が､ｽｲｯﾁひとつで真赤に燃えあがる｡TOKIO､やさしい女が眠る街｡TOKIO､TOKIOが空を飛ぶTOKIO､TOKIOがふたりを抱いたTOKIO､TOKIOが星になる電源を入れるとその電圧がｸﾞﾛｰ点灯管の電極間にかかり放電を始めます｡するとﾊﾞｲﾒ夕ﾙが加熱されて湾曲し\n",
      "\n",
      "Cross Validation: k=[3/10]\n",
      "い状態になります｡電極が接触したｸﾞﾛｰ点灯管は放電を止め､ﾊﾞｲﾀﾙが冷えてもとの状態に戻り電極が離れます｡その瞬間､電流が途切れることで安定器から逆起電ｶによる高電圧が発生します｡この電圧が蛍光管の両方のﾌｨﾗﾒﾝﾄにかかり､加熱されて電子を放射しやすい状態になっていたﾌｨﾗﾒﾝ卜間で放電が始まります｡放電が始まるとﾌｨﾗﾒﾝ卜から電子が放射され､反対側のﾌｨﾗﾒﾝﾄﾍ飛んでいきます｡そして､蛍光管内に封入してある水銀蒸気の原子に衝突し取り込まれます｡ 4回目になる京都ぶらり町歩きｲべﾝ卜､今回は伏見がその舞台｡伏見と聞くと｢伏見稲荷神社｣が有名だが､そこからは少し距離のある挑山御陵前駅から､いざｽﾀｰ卜｡平安時代に｢香り｣のよい水が湧き出たので､清和天皇よりその奇瑞によって｢御香宮｣の名を賜った御香宮神社｡いまでも名水百選に入る水だ｡そこからもわかるように､伏見は水の町｡この湧き水を使用し､お酒を造る酒蔵が軒を連ねる｡1657年(明暦3年)の時点では83軒を数えた酒蔵は､減少の一途を辿り鳥羽伏見の戦いを越えて事業を継続し得たのは笠置屋(現､月桂冠)と鮒屋(現､北川本家)の2軒だけだった｡現在では､23軒まで増えている｡知らず知らず歩いて来た細く長いこの道｡振り返れば遥か遠く故郷が見える｡でこぼこ道や曲がりくねった道｡地図さえない､それもまた人生｡ああ川の流れのようにゆるやかに｡いくつも時代は過ぎて､ああ川の流れのようにとめどなく空が黄昏に深まるだけ｡生きることは旅すること｡終わりのないこの道｡愛する人そばに連れて夢探しながら｡雨に降られてぬかるんだ道でもいつかはまた晴れる日が来るから｡ああ川の流れのようにおだやかにこの身をまかせていたい｡ああ川の流れのように移りゆく季節雪どけを待ちながら｡ああ川の流れのようにおだやかにこの身をまかせていたい｡ああ､川の流れのようにいつまでも､青いせせらぎを聞きながら｡目を閉じて何も見えず哀しくて目を開ければ荒野に向かう道より他に見えるものはなし｡ああ砕け散る宿命の星たちよ｡せめて密やかにこの身を照せよ｡我は行く､蒼白き頬のままで我は行く､さらば昴よ｡呼吸をすれば胸の中､風は吠き続ける｡されど我が胸は熱く夢を追い続けるなり｡ああさんざめく名も無き星たちよ｡せめて鮮やかにその身を終われよ｡我も行く､心の命ずるままに｡我も行く､さらば昴よ｡ああいつの日か誰かがこの道を､ああいつの日か誰かがこの道を｡我は行く､蒼白き頬のままで｡我は行く､さらば昴よ､我は行く､さらば昴よ｡2018(平成30)年の労働基準法の改正により､ﾌﾚｯｸｽ夕ｲﾑ制の清算期問の上限が従来の1か月から3か月に延長されました｡清算期間が1か月を超え3か月以内の制度による場合は､当該清算期間を1か月ごとに区分した各期間(最後に1か月未満の期間を生じたときには､当該期間)ごとに当該各期間を平均し一週間当たりの労働時間が50時間を超えない範囲内で労働させなければなりません｡また､一週間当たり50時間を超えて労働させた場合は､その超えた時間について､当該月における割増賃金の支払い(法第37条､27頁参照)が必要となります｡さらに､清算期間が1か月を超える制度を採用する場合は､制度の内容を決めた労使協定を所轄の労働基準監督署長ﾍ届け出なければならないことに注意が必要です｡枯葉散子夕暮れは､来る日の寒さをものがたり､雨に壊れたべﾝﾁには愛をささやく歌もない｡恋人よそばにいて､こごえる私のそばにいてよ｡そしてひ\n",
      "\n",
      "Cross Validation: k=[4/10]\n",
      "に止まる私を誘っている｡恋人よ､さようなら｡季節はめぐってくるけど､あの日の二人､宵の流れ星､光っては消える無情の夢よ｡恋人よ､そばにいて｡こごえる私のそばにいてよ｡そしてひとことこの別れ話が､冗談だよと笑ってほしい｡古より受け継いだ世界の至宝を現代の光が鮮やかに包み込む｡秋の夜に世界遺産の建造物が浮かび上がり､静寂の中に昼間とは違った幻想的な世界を演出します｡日光の名所である｢日光いろは坂｣は､上り約9､4ｷﾛﾒｰﾄﾙ､下り約6､4ｷﾛﾒｰﾄﾙで｢日本の道100選｣にも選ばれています｡頂上と麓では標高差があるので紅葉の時期も異なり､明智平から眺める一大ﾊﾟﾉﾗﾏはひと際雄大です｡｢日光ﾆ荒山神社神橋｣は聖地日光の表玄関を飾るにふさわしい朱塗に映える美しい神橋は､昔は｢山菅の蛇橋｣などと呼ばれ日光二荒山神社の建造物で国の重要文化財に指定され､平成11年12月に世界遺産に登録されました｡経営者と一体の立場にあるいわゆる｢管理監督者｣(労働基準法第41条第2号)には､労働時間や休日に関する労働基準法上の規制が適用されません(なお､深夜業に関する割増賃金や年次有給休暇に関する規定については一般の労働者と同様に適用されます)｡しかし､実質的に裁量や責任権限を与えられていないのにも関わらず､管理監督者として扱われている不適切な事案が多く見られます｡管理監督者は､｢課長｣｢ﾏﾈｰｼﾞｬｰ｣｢店長｣といった企業内での役職名､肩書にかかわらず､右の要素から実際を見て判断されるので､これに該当するｹｰｽはかなﾘ限定されます｡①職務内容､責任と権限｡労働時間､休憩､休日等に関する規制の枠を超えて活動せざるを得ない重要な職務内容､責任と権限を有していること｡御香宮神社から､ずっと坂を下っていくと商店街が続く｡そこから少し離れると団地が出てくるのだが､実はそこが伏見奉行所跡なのだ｡現在は石碑しかないが､幕末の歴史好きな方の入居待ちが後を絶たないらしい｡鳥羽伏見の戦いでは､薩摩藩の本営となった御香宮神社から大砲が打ち込まれ､伏見奉行所は焼け落ちてしまった｡この道すがら出逢うのが｢総本店駿河屋｣なのだが550年前室町時代に創業した当時は｢鶴屋｣という饅頭屋だった｡このお店｢練り羊羹｣発祥の店で､江戸時代それまで蒸していた羊羹を練り日持ちするようにした画期的な羊羹を作り上げた｡徳川家に非常に気に入られ紀州藩5代将軍のご息女の名前が｢鶴姫｣だったことから同じ鶴を使うのは恐れ多いと｢駿河屋｣と名前を変えたのだが紋には名残で鶴が使用されている｡ なんと､こちらのお店は｢ｲﾅｽﾞﾏﾌｰﾄﾞﾌｪｽ｣という滋賀県内でも大きなﾌｪｽにも出店している人気店なのです(こんな近くに美味しいお店があるなんて素敵です)炭火でじっくり焼く焼き鳥はもちろんのこと､だし巻き卯や鶏ﾏﾖも絶品です｡韓国料理のﾒ二ｭｰもあり､ｷﾝﾊﾟ(韓流海苔巻き)やｴﾋﾞﾀﾞｯｸ､ﾁｹﾞ鍋などが食べられます｡気さくなご主人が､滋賀県のおｽｽﾒを教えてくれたり､世間話をしたりとおしゃべりも楽しめる素敵なお店です｡ご来館の際は､ぜひ足を運んでみてください｡近江びわ湖の現地ｽﾀｯﾌが自信をもってお推めする焼き鳥｢魚庄｣でした｡今年は辛の年､昨年は全力､今年はゆったり進んだ方が良いと出ていますが､私に限っては､猛ｽﾋﾟｰﾄﾞで突き進むようにと､気学では出ています｡昨年はｺﾛﾅ禍による大変化の年でしたが､一歩も引かずに前進して参りました｡忘れもしない4月1日､名古屋ｼｮｰﾙｰﾑのｵｰﾌﾟﾝ日は愛知県に\n",
      "\n",
      "Cross Validation: k=[5/10]\n",
      "ｯﾌの機敏な行動力により､たった1日間でｵﾝﾗｲﾝｼｮｰﾙｰﾑを構築6月より復調し､9月には過去最高の契約数を達成するという偉業を成し遂げることもできました｡また､兼ねてより構想していた見学できるﾌｧｸﾄﾘｰを急ﾋﾟｯﾁで計画実行し､9月に完成竣工式を迎えることも叶いました｡今はこんなに悲しくて涙もかれ果てて､もう二度と笑顔にはなれそうもないけどそんな時代もあったねといつか話せる日がくるわ｡あんな時代もあったねときっと笑って話せるわだから今日はくよくよしないで今日の風に吹かれましょう｡まわるまわるよ時代はまわる喜び悲しみくり返し今日は別れた恋人たちも生まれ変わってめぐりあうよ｡旅を続ける人々はいつか故郷に出会う日をたとえ今夜は倒れてもきっと信じてﾄﾞｱを出る｡たとえ今日は果てしもなく冷たい雨が降っていてもめぐるめぐるよ時代はめぐる別れと出会いをくり返し､今日は倒れた旅人たちも生まれ変わって歩き出すよ｡まわるまわるよ時代はまわる別れと出逢いを繰り返し今日は倒れた旅人たちも生まれ変わって歩き出すよ｡今日は倒れた旅人たちも生まれ変わって歩き出すよ誰にも見せない泪があった｡人知れず流した泪があった｡決して平らな道ではなかった｡けれど確かに歩んできた道だ｡あの時想い描いた夢の途中に今も何度も何度もあきらめかけた夢の途中いくつもの日々を越えて辿り着いた今がある｡だからもう迷わずに進めばいい｡栄光の架け橋へと｡悔しくて眠れなかった夜があった｡恐くて震えていた夜があったもう駄目だと全てが嫌になって逃げ出そうとした時も想い出せばこうしてたくさんの支えの中で歩いて来た｡悲しみや苦しみの先にそれぞれの光がある｡さあ行こう振り返らず走り出せばいい｡希望に満ちた空へ｡誰にも見せない泪があった｡人知れず流した泪があった｡いくつもの日々を越えて辿り着いた今がある｡だからもう迷わずに進めばいい栄光の架橋へと､終わらないその旅へと､君の心へ続く架橋へと｡2020年は当社の内部環境整備を徹底的に実行し､従業員さんが働きやすい環境を整えることに力を注いで参りましたが､2021年からは､あらためてお客様との絆づくりに社員一丸となって取り組む所存です｡｢社員全員がお客様に喜んでいただける為に｣と心から思えるようになったときに､これまでは会社側が引いたﾚｰﾙに乗り､形を重視してきた数々の取り組みが､個々の自発的な行動へと進化して､結果お客様との信頼関係が深まることで､多くの方々から必要とされる組織に発展していくものと確信をしているからです｡そして､我々は新たな夢やﾋﾞｼﾞｮﾝを掲げられるのではないでしょうか｡その象徴として､来年4月には､お客様には当社のｵｰﾅｰ様としての価値を提供させて頂きたく､場所は限定されますが､ひるがの高原に自社のｷｬﾝﾌﾟが出来るRVｻｲﾄ､｢KWORKSひるがの高原BASE｣をｵｰﾌﾟﾝさせていただきます｡空を押し上げて､手を伸ばす君五月のこと｡どうか来てほしい水際まで来てほしい｡つぼみをあげよう庭のﾊﾅﾐｽﾞｷ｡薄紅色の可愛い君のね｡果てない夢がちゃんと終わりますように｡君と好きな人が百年続きますように夏は暑すぎて僕から気持ちは重すぎて一緒にわたるにはきっと船が沈んじゃう｡どうぞゆきなさい｡お先にゆきなさい｡僕の我慢がいつか実を結び果てない波がちゃんと止まりますように｡君とすてきな人が百年続きますように｡ひらり蝶々を追いかけて白い帆を揚げて母の日になればﾐｽﾞｷの葉贈って下さい｡待たなくてもいいよ｡薄紅色の可愛い君のね果\n",
      "\n",
      "Cross Validation: k=[6/10]\n",
      "がちゃんと止まりますように｡君と好きな人が百年続きますように｡君と好きな人が百年続きますように｡ﾗﾋﾟｯﾄﾞｽﾀｰﾄ式蛍光灯はその名の通り即時点灯型の照明器具でｽｲｯﾁを入れてから約1秒で点灯します｡ｸﾞﾛｰ点灯管は不要で､蛍光管はﾗﾋﾟｯﾄﾞ専用のものを使います｡この蛍光管は導電性皮膜を管内面に塗布したものと､管の外側に直線状の導電性皮膜を塗布したものがあり､普通の蛍光管は使えません｡電源を入れると変圧器2次側のﾌｨﾗﾒﾝﾄ用のｺｲﾙに電流が流れ､ﾌｨﾗﾒﾝﾄを加熱します｡それと同時にﾌｨﾗﾒﾝﾄと導電性皮膜の間で微放電が起こり､微小電流が流れます｡微小電流が導電性皮膜に沿って徐々に反対側の電極まで届いたときに､ﾌｨﾗﾒﾝﾄ間の放電が始まります｡ﾗﾋﾟｯﾄﾞｽﾀｰﾄ式蛍光灯は学校や事務所などに広く使われています｡2年後に米英から攻められた場合(攻めてくるとは限らないが)戦わずして敗北―｡実際に選んだ1は希望的観測に基づき､選ばれなかった2と3は未来をことさら悲観的に描いている｡ここで難しいのは､2や3を選んで戦争の惨害を防いだとしても､その決定が評価される保証はないことである(惨害は実際には起こらないから､その痛みを感じない｡｢五輪中止｣という痛みを伴う選択をして感染爆発を防いだとしても､評価されるかどうか分からないという点が現代と同じだ)｡それに比較すれば､戦争は選択の結果を先延ばしにすることで､少なくとも2年は責任を逃れることができる｡当時の為政者は､逃れることができる｡当時の為政者は､2(陸軍の強硬な反対を押しきって中国から撤兵)や3(国力の確実な低下に堪えながら将来を模索する)という､痛みを伴う選択を避けたのである｡太平洋戦争(当時の呼称で｢大東亜戦争｣)は､日本が大東亜共栄圏をつくるために始めた侵略戦争という評価が一般的である｡しかし､日本はそれを目的として追求し､戦争を選んだわけでない｡むしろ痛みを伴う他の選択ができなかった結果､戦争が最もましと考えられたのである｡戦争の直接的な動機は､1941年8月の米英ｵﾗﾝﾀﾞによる対日全面禁輸だった｡日本はその4年前から中国との全面戦争を続けており(戦死者は既に20万人を超えていた)｡石油の備蓄は2年~1年半しかない｡日本の選択肢は三つ､1米英と戦争して東南ｱｼﾞｱの資源地帯を武力で獲得､2日本軍を中国から撤兵させ､禁輸を解除してもらう､3何もせずに風向きが変わるのを待つ｡では､これらのﾘｽｸはどう認識されたのか｡1米英との戦争に勝つ見込みはないが､不敗態勢を構築する可能性はある｡2中国から締め出され､三等国に転落｡ｶﾘｽﾏ清掃員として､羽田空港を｢世界一清潔な空港｣へと導き､昨年そのﾉｳﾊｳを新たな分野に生かそうと､｢ﾊｳｽｸﾘｰﾆﾝｸﾞ思う心｣を立ち上げた新津さん｡｢羽田空港が世界一きれいな空港だと評価されたのだから､そのﾉｳﾊｳを家庭に応用すれば､喜んでくれる人がいると思ったんです｣｡清掃の仕事に加えて､講演など多忙を極める新津さんですが､自宅でも毎日1時間の掃除が習慣になっているそう｡そこはただ掃除機をかけるだけではなく､ﾌﾟﾛならではのﾙｰﾙが｡｢私が続けているのは､手で触る､素肌が触れるところは毎日掃除をすること｡手についた汚れは､口に入る可能性も高いですよね｡だからﾄﾞｱﾉﾌﾞや水道の蛇口など､毎日触るところはきちんと拭いて清潔に保つことを心がけています｡労働基準法は､年次有給休暇の付与を原則として1日単体としています｡しかし､事業場で労使協定を締\n",
      "\n",
      "Cross Validation: k=[7/10]\n",
      "校行事､官公署への諸届けなど必要な時間分だけ取得できるため､多様なﾆｰｽﾞに柔軟に対応することができます｡ただし､年次有給休暇の本来の趣旨を損なわないようにするため､時間単位年休は労働者の希望があることが前提となっており､また､その上限は1年で5日分までとされています｡なお､半日単位の年次有給休暇については､本来の1日単位での取得を阻害しない範囲で運用される限り労働者からの請求に応じて与えることができます｡本書では､日常生活で私たちが自覚しやすい3つの生体ﾘｽﾞﾑを取り扱います｡ﾒﾗﾄﾆﾝとは､日の光や照明と強く関係する物質です｡皮膚に作用すると､色素細胞内のﾒﾗ二ﾝ顆粒が細胞核の周囲に凝集して､皮膚を退色させることからﾒﾗ卜ﾆﾝと名付けられたとされています｡原料は､納豆などの大豆製品に多く含まれる､ﾄﾘﾌﾟﾄﾌｧﾝ(必須ｱﾐﾉ酸)に変化します｡ﾒﾗﾄﾆﾝは､光を感知すると減少し､夜問に暗くなると､急速に増加するという特微を持っています｡睡眠を誘発する作用のほか､ｴﾈﾙｷﾞｰを使った後に発生する活性酸素を除去したり､抗がん作用や性腺機能を抑制するなど様々な働きがあり､いまだ不明な点も多い物質です｡脳には､睡眠を発動させる神経がﾈｯﾄﾜｰｸをつくる｢脳幹｣という場所があります｡この場所の眠らせる神経が働くと､判断や優先順位を決めるなど高いﾚべﾙの働きをしている大脳が眠ります｡講師として一生懸命に伝えているのに､研修担当者や受講者の満足度が低いと感じた経験はありませんか?研修の成果を上げようとするとき､伝える内容に焦点を当てがちですが､それだけでは不十分です｡研修担当者や受講者を顧客として考えてみましょう｡顧客としての経験は研修開始前からｽﾀｰﾄし研修終了後も続いていきます｡打ち合わせに始まり事前課題や事前ｱﾝｹｰﾄの内容､送られてくるﾀｲﾐﾝｸﾞ､研修当日は開始前の講師との関わり､ｵﾘｴﾝﾃｰｼｮﾝ､ｱｲｽﾌﾞﾚｲｸ､休憩時間中のやり取り､研修内容､研修の終わり方､終了後の受講者ｱﾝｹｰﾄや講師ﾚﾎﾟｰﾄの提出についても､顧客としての経験そのものです｡つまり､研修の内容を論理的に伝えるだけでは満足にはつながりません｡研修における満足度を高めるためには､顧客である担当者や受講者との全ての接点で感情へのｱﾌﾟﾛｰﾁを加えた価値の提供が必須なのです｡話を始める前に､これからどんな話をするのかを予告すると､聞き手が話の全体像を理解することができ､わかりやすい話になる､とｺﾂ3で説明しました｡この予告の仕方も､さらにもうひとつ工夫を加えれば､聞き手の食いつきが段違いになります｡私は英語のｾﾐﾅｰを仕事にしていますが､その営業を私自身が行うことがあります｡ある自動車ﾒｰｶｰに英語ｾﾐﾅｰの説明をしに行ったことがあります｡しかし､大手の自動車ﾒｰｶｰであるだけに､みなさんは英語がすでにある程度話せるのです｡そんな人達に｢こうすれば英語ができるようになりますよ｣という説明を､どうすれば興味を持って聞いてもらえるのでしょうか｡考えた結果､ｾﾐﾅｰの説明をする前の予告に､少し工夫を加えることにしました｡人によって､持っている能力や､持っている欲求は違います｡たとえば､聞き手が雑誌の編集者であれば､新しい製品や次に流りそうな俳優･女優､あるいはﾗｲﾊﾞﾙとなりうる他のﾒﾃﾞｨｱについて興味があるでしょう｡また､聞き手が高齢の方であれば､昭和の話､年金の話､健康の話などに興味があるはずです｡話の内容も､当然それに沿ったものにすることが大\n",
      "\n",
      "Cross Validation: k=[8/10]\n",
      "話し始めてから10秒で､聴衆を自分の話に食い入らせることができます｡先日､某国立大学で行われた講演に足を運びました｡講演者の方の経歴はとても魅力的で､話もここでしか聞けない貴重なものです｡しかし､まったく面白く感じないのです｡講演はその大学以外の､一般の方向けに行なわれていたものでした｡ですから､その講演者の方の研究分野に詳しい人は決して多くないと思います｡｢快楽｣と聞くと､反射的に｢いけないこと｣というｲﾒｰｼﾞを持たれる方が多いのではないでしょうか｡ではその｢快楽｣とはどういうものでしょう｡まず､食欲や性欲など､生物的な欲求を満たすことで得られる｢快楽｣があります｡高価な美食を追求したり､風俗店に足繁く通ったりするのが分かりやすい例でしょうか｡また､ｱﾙｺｰﾙやﾀﾊﾞｺ､麻薬や覚醒剤など､特定の物質を摂取することにより得られる快楽もあります｡さらには､買い物やｷﾞｬﾝﾌﾞﾙ､ｺﾝﾋﾟｭｰﾀｹﾞｰﾑやSNS､ﾁｬｯﾄなど､いわゆる趣味的なものに｢ﾊﾏる｣ことも､一種の快楽でしょう｡程度の差こそあれ､これらは､私たちが人生の目的を達成する妨げとなる存在であるとお考えの方も多いと思います｡ところがこの両者､人生の目的のために真摯に努力することと､快楽に我を忘れることには､同じ脳内物質が関わっているのです｡学習作業の対価として食べ物を与える動物実験でわかる脳内ﾒｶﾆｽﾞﾑは､｢生理的報酬｣と呼ばれています｡この実験では良い報酬が得られると中脳にあるﾄﾞｰﾊﾟﾐﾝを放出する細胞が活性化し､大脳基底核の線条体というところにﾄﾞｰﾊﾟﾐﾝが放出されます｡それが海馬に記憶されてさらに学習作業に意欲が出るとされているのです｡ﾋﾄの脳が､どんな刺激に対してどのように活動しているのかを調べる技術が発達してきたことで､ﾋﾄが金銭的報酬を得るときでも､やはり同様に線条体が活性化していることがわかってきました｡しかし学校で一生懸命勉強しても､お金をもらえるわけではありません｡会社でも､いい仕事をした日にすぐ､いくばくかのﾎﾞｰﾅｽを渡されることはないでしょう｡それでも学生や会社員がやる気を出すのは､彼らがお金ではない報酬を受け取っているからです｡これが社会的報酬です｡例えばあなたがﾃｽﾄで100点をとったとします｡その答案を見て喜ぶ｡ここまでは自分で自分の価値を確認している段階です｡次に気になるのは周りの人の点数､つまり平均点でしょう｡みなが100点だったら､先ほどの喜びもしぼんでしまいます｡ですから､周りから賞賛を得るために､さりげなく友人と話してお互いの点数情報を交換したり､わざと人に見えるように机の上に答案を置いたりすることがあるかもしれません｡これが承認や評価です｡学生だけではなく､社会においてもこのｼｽﾃﾑは大変有効に機能しています｡成績優秀な社員に対する｢社長賞｣､様々なｺﾝﾃｽﾄや学術文化の各分野､ｺﾞﾙﾌｺﾝﾍﾟなどで｢〇〇賞｣などはすべてこれにあたります｡家庭の話に限らず､趣味の話､仕事の話､人によって興味の領域は違います｡初対面であるならまだしも､自分の知り合いと話をしているときには､相手がどんなことについて興味をもっているかあらかじめわかっているはずです｡ところが､人はなかなかそれに気づけません｡独りよがりな話をしないためには､話題を切り出す前に一度その話題が適切であるかどうか考えないとなりません｡先の例でいえば｢子供の教育｣と私の仕事である企業の｢人材教育｣は｢教育｣という部分では共通しています｡この共通ﾃｰﾏを利用し\n",
      "\n",
      "Cross Validation: k=[9/10]\n",
      "ていうのは必須条件なの?｣といった具合に話し始めれば話が盛り上がると思うのです｡3人の人が､それぞれﾓﾉを持っています｡右図を見てください｡Aさんは1を持っているのですが､これを3に替えたいといっています｡しかし､3を持っているCさんは2を欲しがっているようです｡次に､BさんはCさんが欲しがっている2を持っていますが､1を欲しがっています｡このままでは(物々)交換は進みません｡ですが､もし3人が貨幣(例えば日銀券)を少しずつ持っていて､それで自分の欲しいものを買い､また違う相手が欲しがっているものを売って貨幣を手に入れるということになれば､必要な交換がｽﾑｰｽﾞに進むことは容易にわかるでしょう｡3人の間を貨幣がぐるぐる回ることによって､物の交換が促進されるのです｡貨幣が以上の役割を果たすためには､自分だけでなく他の人もまた貨幣を信頼していて､ものとの交換に受け取ってくれるという安心感を皆が持っていることがきわめて重要です｡歴史上､様々な形態の貨幣が現れました｡金､銀､銅の金属や塩､牛､干し魚､ﾀﾊﾞｺなどです｡変わり種は､ﾔｯﾌﾟ島の置かれたままで所有権のみが移った石｡貨幣にとって信頼が大事､あるいは美人投票的側面があるといういい例です｡一定の純度を持つ金属からできていることを国が保証(ここでも信頼!)したのが鋳造貨幣で､紀元前670年頃のｱﾅﾄﾘｱ半島に現れたﾘﾃﾞｨｱ王国の砂金からなるｴﾚｸﾄﾛﾝが最初だといわれています｡金貨を正式の貨幣と認め､場合によってはさらに金貨との兌換を約束しつつ紙幣も流通させると金本位制になります｡貨幣としての意味がまったく異なる制度は､貴金属との兌換を約束せずに国が紙幣を流通させた場合(法定の不換紙幣)です｡こうなると信頼のﾍﾞｰｽは､誰が｢美人｣(何を貨幣にする)かを国が決めていて､国に対する信認があるからという話になります｡金融制度の根幹である貨幣に対する信頼を失わさせる最大の要因はｲﾝﾌﾚｰｼｮﾝです｡ｲﾝﾌﾚｰｼｮﾝは1つのﾓﾉの値段が上がることではなくて､多くのﾓﾉ･ｻｰﾋﾞｽの価格､賃金などがおしなべて上昇する現象を指します｡現代の貨幣である紙幣には利子が付かないので､1万円はいつまでも1万円のままです｡すると､ﾓﾉの値段が2倍になってしまえば､貨幣の実質価値は半分となり､貨幣への信頼が低下して市場経済の根幹である交換に支障をきたすようになります｡現代国家では､法定通貨は主に中央銀行が発行しています｡ほとんどの中央銀行の一番の仕事は貨幣価値を安定的に保つこととされています｡すなわち､ｲﾝﾌﾚを起こさないことです｡しかし､歴史的には前節の中国の話のように､戦費調達(ｲﾝﾌﾚにつながりやすい行動)などのために､(ｲﾝﾌﾚに弱い)紙幣が発行され始めた事象を考えると､なかなか根の深い矛盾のようなものがあります｡貨幣の利用が信頼に根ざしているとしたら､複数の貨幣が競争してより信頼されたほうが広く流通していくという可能性が頭に浮かびます｡例えば､信頼の1つの根拠が物価の安定にあるとすれば､高率のｲﾝﾌﾚｰｼｮﾝを発生させている国の通貨は衰退していくはずです｡経済学者ﾌﾘｰﾄﾞﾘｯﾋ･ﾌｫﾝ･ﾊｲｴｸは､国というよりは民間の銀行に勝手に通貨を発行させ､その中の良いものが勝ち残っていくという｢貨幣発行自由化論｣を唱えました｡中南米諸国では､戦後に限っても何度も高率のｲﾝﾌﾚが発生した結果､国内経済取引でも自国通貨だけでなく米ﾄﾞﾙが広く使われています｡1990年代のｱﾙｾﾞﾝﾁﾝ\n",
      "\n",
      "Cross Validation: k=[10/10]\n",
      "くいきませんでした｡現在では多くの国が独自の貨幣(この場合通貨とも呼ばれる)を発行しています｡一方で様々な経済取引は国境を越えて行われます｡当然､1つの国の通貨と別の国の通貨を交換することが必要になります｡これに応える市場が外国為替市場です｡米ﾄﾞﾙと円､ﾎﾟﾝﾄﾞとﾕｰﾛなどが交換されます｡通貨がたくさんあると､本章01節で物々交換について指摘したのと同じような問題が発生します｡円を持っている人がﾎﾟﾝﾄﾞを欲する一方､ﾎﾟﾝﾄﾞを持っている人はﾕｰﾛを欲しがり､ﾕｰﾛを持っている人はﾒｷｼｺﾍﾟｿを欲しがっているなどです｡こんなとき､物々交換に代わる貨幣による交換と同じように､皆が受け入れる｢貨幣の中の貨幣｣があると話は楽です｡現状では米ﾄﾞﾙがその役目を果たしています｡信頼感がある米ﾄﾞﾙと各国通貨の市場はできやすくなります｡本書の冒頭で指摘した金融の第二の役割について説明していきましょう｡例えば今年種もみが余っている農家が､足りない農家に融通し､来年(利子を付けて)返してもらえば､双方にﾌﾟﾗｽが発生します｡この取引は現在のｺﾒと将来のｺﾒの交換であることもわかります｡現実には､借り手も貸し手もｺﾒ以外の多様なものに対するﾆｰｽﾞがあるので､この取引はお金の貸し借りとして実行されます｡人は毎年何らかの所得を稼ぎ､その一部を消費し､残りを貯蓄します(銀行預金でいうと､残高ではなく､その年の残高の増分)所得がない人が消費をすると､ﾏｲﾅｽの貯蓄になります｡さらに､この人は住宅を買ったり､事業をしていれば機械を買ったりするでしょう｡これが投資です(株や投資信託ではなく､実物資産を買うこと)｡貯蓄が投資を上回って(下回って)いる主体を､貯蓄(投資)超過主体といいます｡あるいは黒字(赤字)主体ともいいます｡発展段階にある若い国(ｴﾏｰｼﾞﾝｸﾞ諸国)には､投資機会がふんだんにあります｡一方で所得水準がまだ低く､貯蓄は不十分です｡先進国は逆です｡後者から前者に資金を貸し付けることができれば､双方にﾌﾟﾗｽが発生します｡ｲｷﾞﾘｽは18~19世紀初めにかけてﾖｰﾛｯﾊﾟ大陸から資金を借り入れて産業革命にあてました｡その後､19世紀末には逆に海外に資金を貸し付ける国に転じます｡ｱﾒﾘｶも当初､ﾖｰﾛｯﾊﾟから資金を借り入れて国内の鉄道などを整備しつつ発展しました｡第2次大戦後､国際的な資金の貸し借りに対する規制もあり､発展途上国には資金が流れませんでしたが､1980年代から資金が流れ､1990年代以降の途上国の経済成長の大きな要因となりました｡より短期的に､地震などの災害に見舞われて一時的に生産活動がｽﾄｯﾌﾟし､所得が大きく低下した地域や国を考えてみましょう｡利子率は黒字主体の貯蓄超過を､赤字主体の投資超過とﾏｯﾁさせるように決まります｡ですので､貯蓄と投資の決定要因を考えれば､利子率の決まり方もわかります｡ｺﾒの貸し借りの例に戻りましょう｡農業技術が進歩すると､種もみからたくさんの収穫が得られます｡(赤字)農家は､よりたくさんｺﾒを借りようとします｡つまり､生産性(あるいは一般的な企業と考えれば期待される利潤率)が高いほど投資が増えます｡一方で､ｺﾒがたくさんある農家は､貸し出さずに今日食べてしまってもいいわけです｡貸し出すということは今日食べる量を減らして1年後にたくさん食べようということです｡将来の消費よりも今日の消費をどれくらい好むかという程度を､難しい言葉ですが､時間選好率といいます｡これが高いほど貯蓄は減ります｡結局､生産\n",
      "\n"
     ]
    }
   ],
   "source": [
    "final_accuracies = []\n",
    "final_losses = []\n",
    "\n",
    "cross_validation = Cross_Validation(tegaki_dataset)\n",
    "k_num = cross_validation.k_num #デフォルトは10\n",
    "\n",
    "##学習\n",
    "for i in range(k_num):\n",
    "    train_dataset,valid_dataset = cross_validation.get_datasets(k_idx=i)\n",
    "\n",
    "    print(f'Cross Validation: k=[{i+1}/{k_num}]')\n",
    "    train_dataloader=DataLoader(train_dataset,batch_size=BATCH_SIZE,shuffle=True,drop_last=True) #訓練データのみシャッフル\n",
    "    valid_dataloader=DataLoader(valid_dataset,batch_size=BATCH_SIZE,shuffle=False,drop_last=True)\n",
    "    model = Proofreader(VOCAB_SIZE, hidden_dim=HIDDEN_SIZE, output_size=VOCAB_SIZE, n_layers=1)\n",
    "    # model.load_state_dict(torch.load(\"data/tegaki_katsuji/pre_trained_model.pth\"))\n",
    "\n",
    "    for v,a in valid_dataloader:\n",
    "        for idx in a:\n",
    "            print(tokens.get_decoded_char(idx.item()),end='')\n",
    "    print('\\n')\n",
    "\n",
    "\n",
    "    continue\n",
    "\n",
    "\n",
    "    epochs = 100\n",
    "    acc_record=[]\n",
    "    loss_record=[]\n",
    "    start = time.time() #開始時間の設定\n",
    "\n",
    "    for epoch in range(1,epochs+1):\n",
    "        loss,acc = train(model,train_dataloader,learning_rate=0.01)\n",
    "\n",
    "        valid_acc = eval(model,valid_dataloader)\n",
    "        loss_record.append(loss)\n",
    "        acc_record.append(valid_acc)\n",
    "\n",
    "        if epoch%10==0:\n",
    "            print(f'epoch:[{epoch:3}/{epochs}] | {timeSince(start)} - loss: {loss:.7},  accuracy: {acc:.7},  valid_acc: {valid_acc:.7}')\n",
    "            start = time.time() #開始時間の設定\n",
    "        # print(f'epoch:[{epoch:3}/{epochs}] | {timeSince(start)} - loss: {loss:.7},  accuracy: {acc:.7},  valid_acc: {valid_acc:.7}')\n",
    "        # start = time.time() #開始時間の設定\n",
    "\n",
    "    print(f'final_loss: {loss_record[-1]:.7},   final_accuracy:{acc_record[-1]:.7}\\n\\n')\n",
    "    final_accuracies.append(acc_record[-1])\n",
    "    final_losses.append(loss_record[-1])"
   ]
  },
  {
   "cell_type": "code",
   "execution_count": 21,
   "metadata": {},
   "outputs": [
    {
     "data": {
      "image/png": "[encoded data removed]",
      "text/plain": [
       "<Figure size 432x288 with 2 Axes>"
      ]
     },
     "metadata": {
      "needs_background": "light"
     },
     "output_type": "display_data"
    },
    {
     "name": "stdout",
     "output_type": "stream",
     "text": [
      "final_accuracy:[]\n",
      "finall_loss:[]\n",
      "average_acc: nan\n",
      "average_loss: nan\n"
     ]
    },
    {
     "name": "stderr",
     "output_type": "stream",
     "text": [
      "/net/nfs2/export/home/ohno/CR_pytorch/lib/python3.8/site-packages/numpy/core/fromnumeric.py:3440: RuntimeWarning: Mean of empty slice.\n",
      "  return _methods._mean(a, axis=axis, dtype=dtype,\n",
      "/net/nfs2/export/home/ohno/CR_pytorch/lib/python3.8/site-packages/numpy/core/_methods.py:189: RuntimeWarning: invalid value encountered in double_scalars\n",
      "  ret = ret.dtype.type(ret / rcount)\n"
     ]
    },
    {
     "data": {
      "text/plain": [
       "<Figure size 432x288 with 0 Axes>"
      ]
     },
     "metadata": {},
     "output_type": "display_data"
    }
   ],
   "source": [
    "import matplotlib.pyplot as plt\n",
    "fine=[0.6963315217391305, 0.6807065217391305, 0.7099184782608695, 0.6175271739130435, 0.6222826086956522, 0.6046195652173914, 0.7819293478260869, 0.8199728260869565, 0.7846467391304348, 0.7676630434782609]\n",
    "orig=[0.7085597826086957, 0.6773097826086957, 0.6854619565217391, 0.6202445652173914, 0.6331521739130435, 0.6073369565217391, 0.7819293478260869, 0.8158967391304348, 0.7866847826086957, 0.7744565217391305] \n",
    "fig = plt.figure()\n",
    "fig1 = fig.add_subplot(1, 2, 1)\n",
    "fig1.plot(fine,color=\"tomato\")\n",
    "fig1.set_title(\"loss\")\n",
    "fig2 = fig.add_subplot(1, 2, 2)\n",
    "fig2.plot(orig)\n",
    "fig2.set_title(\"accuracy\")\n",
    "\n",
    "\n",
    "plt.show()\n",
    "\n",
    "\n",
    "print(f'final_accuracy:{final_accuracies}\\nfinall_loss:{final_losses}')\n",
    "print(f'average_acc: {np.mean(final_accuracies)}\\naverage_loss: {np.mean(final_losses)}')\n",
    "\n",
    "plt.savefig(\"/net/nfs2/export/home/ohno/CR_pytorch/result.png\")\n"
   ]
  },
  {
   "cell_type": "code",
   "execution_count": null,
   "metadata": {},
   "outputs": [],
   "source": []
  }
 ],
 "metadata": {
  "interpreter": {
   "hash": "b3f068fdb30bfe91116931ab9f38f90abd8ac3f51d16a38a70c3d538a36b3166"
  },
  "kernelspec": {
   "display_name": "Python 3.8.10 64-bit ('CR_pytorch': venv)",
   "language": "python",
   "name": "python3"
  },
  "language_info": {
   "codemirror_mode": {
    "name": "ipython",
    "version": 3
   },
   "file_extension": ".py",
   "mimetype": "text/x-python",
   "name": "python",
   "nbconvert_exporter": "python",
   "pygments_lexer": "ipython3",
   "version": "3.8.10"
  },
  "orig_nbformat": 4
 },
 "nbformat": 4,
 "nbformat_minor": 2
}
